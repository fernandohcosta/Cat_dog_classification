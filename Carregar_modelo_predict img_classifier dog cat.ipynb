{
 "cells": [
  {
   "cell_type": "markdown",
   "id": "97176458",
   "metadata": {},
   "source": [
    "# Import"
   ]
  },
  {
   "cell_type": "code",
   "execution_count": 1,
   "id": "5a28ff18",
   "metadata": {},
   "outputs": [],
   "source": [
    "# Importando o necessário para carregar e rodar o modelo\n",
    "import tensorflow as tf\n",
    "from tensorflow import keras\n",
    "\n",
    "#Definindo o nome das classes\n",
    "class_names= ['cat', 'dog']"
   ]
  },
  {
   "cell_type": "markdown",
   "id": "6b9c17b1",
   "metadata": {},
   "source": [
    "# Carregar modelo"
   ]
  },
  {
   "cell_type": "code",
   "execution_count": 2,
   "id": "264efb25",
   "metadata": {},
   "outputs": [],
   "source": [
    "#Carregando o modelo\n",
    "loaded_model = keras.models.load_model('./img_classifier/v1/')"
   ]
  },
  {
   "cell_type": "code",
   "execution_count": 3,
   "id": "009f37fb",
   "metadata": {
    "scrolled": false
   },
   "outputs": [
    {
     "name": "stdout",
     "output_type": "stream",
     "text": [
      "Model: \"model\"\n",
      "_________________________________________________________________\n",
      "Layer (type)                 Output Shape              Param #   \n",
      "=================================================================\n",
      "input_2 (InputLayer)         [(None, 224, 224, 3)]     0         \n",
      "_________________________________________________________________\n",
      "sequential (Sequential)      (None, 224, 224, 3)       0         \n",
      "_________________________________________________________________\n",
      "tf.math.truediv (TFOpLambda) (None, 224, 224, 3)       0         \n",
      "_________________________________________________________________\n",
      "tf.math.subtract (TFOpLambda (None, 224, 224, 3)       0         \n",
      "_________________________________________________________________\n",
      "mobilenetv2_1.00_224 (Functi (None, 7, 7, 1280)        2257984   \n",
      "_________________________________________________________________\n",
      "global_average_pooling2d (Gl (None, 1280)              0         \n",
      "_________________________________________________________________\n",
      "dropout (Dropout)            (None, 1280)              0         \n",
      "_________________________________________________________________\n",
      "dense (Dense)                (None, 1)                 1281      \n",
      "=================================================================\n",
      "Total params: 2,259,265\n",
      "Trainable params: 1,862,721\n",
      "Non-trainable params: 396,544\n",
      "_________________________________________________________________\n"
     ]
    }
   ],
   "source": [
    "loaded_model.summary()"
   ]
  },
  {
   "cell_type": "markdown",
   "id": "88f59979",
   "metadata": {},
   "source": [
    "# Criando função para facilitar o trabalho de inferência"
   ]
  },
  {
   "cell_type": "code",
   "execution_count": 4,
   "id": "d6d0f42e",
   "metadata": {},
   "outputs": [],
   "source": [
    "def prediction(image_path, c_model, class_name):\n",
    "    \"\"\"\n",
    "    Esta função simplifica o processo de predição do modelo\n",
    "    Ela recebe uma o caminho da imagem, um modelo e os nomes das classes que devem ser retornados\n",
    "    Ela retorna o nome da classe prevista\n",
    "    \"\"\"\n",
    "    img = tf.keras.utils.load_img(image_path, target_size=(224,224))\n",
    "    \n",
    "    img_array = tf.keras.utils.img_to_array(img)\n",
    "    img_array = tf.expand_dims(img_array, 0) # Create a batch\n",
    "    \n",
    "    prediction = c_model.predict(img_array).flatten()\n",
    "    # Apply a sigmoid since our model returns logits\n",
    "    prediction = tf.nn.sigmoid(prediction)\n",
    "    prediction = tf.where(prediction < 0.5, 0, 1)\n",
    "    class_name = class_name[prediction[0]]\n",
    "    \n",
    "    return class_name"
   ]
  },
  {
   "cell_type": "markdown",
   "id": "15e9fdd5",
   "metadata": {},
   "source": [
    "## Teste da função de previsão"
   ]
  },
  {
   "cell_type": "code",
   "execution_count": 5,
   "id": "9a127211",
   "metadata": {},
   "outputs": [],
   "source": [
    "#Escolher o caminho da imagem de preferência\n",
    "image_path = './dataset/validation/dog/beagle_152.jpg'"
   ]
  },
  {
   "cell_type": "code",
   "execution_count": 6,
   "id": "c2d94e6e",
   "metadata": {},
   "outputs": [
    {
     "data": {
      "text/plain": [
       "'dog'"
      ]
     },
     "execution_count": 6,
     "metadata": {},
     "output_type": "execute_result"
    }
   ],
   "source": [
    "prediction(image_path, loaded_model, class_names)"
   ]
  },
  {
   "cell_type": "code",
   "execution_count": null,
   "id": "69f729cc",
   "metadata": {},
   "outputs": [],
   "source": []
  }
 ],
 "metadata": {
  "kernelspec": {
   "display_name": "Python 3 (ipykernel)",
   "language": "python",
   "name": "python3"
  },
  "language_info": {
   "codemirror_mode": {
    "name": "ipython",
    "version": 3
   },
   "file_extension": ".py",
   "mimetype": "text/x-python",
   "name": "python",
   "nbconvert_exporter": "python",
   "pygments_lexer": "ipython3",
   "version": "3.8.12"
  }
 },
 "nbformat": 4,
 "nbformat_minor": 5
}
